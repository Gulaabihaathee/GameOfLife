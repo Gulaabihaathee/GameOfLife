{
 "cells": [
  {
   "cell_type": "code",
   "execution_count": 1,
   "metadata": {},
   "outputs": [],
   "source": [
    "import numpy as np\n",
    "import matplotlib.pyplot as plt\n",
    "\n",
    "from ipywidgets import *"
   ]
  },
  {
   "cell_type": "code",
   "execution_count": 2,
   "metadata": {},
   "outputs": [],
   "source": [
    "def counting(i, j, board):\n",
    "    if i > 0 and j > 0:\n",
    "        return( np.sum(board[i-1:i+2 , j-1:j+2]) - board[i,j])\n",
    "    if i == 0 and j > 0:\n",
    "        return( np.sum(board[i:i+2 , j-1:j+2]) - board[i,j])\n",
    "    if i > 0 and j == 0:\n",
    "        return( np.sum(board[i-1:i+2 , j:j+2]) - board[i,j])\n",
    "    if i == 0 and j == 0:\n",
    "        return( np.sum(board[i:i+2 , j:j+2]) - board[i,j])\n",
    "\n",
    "def growth(board):\n",
    "    board1 = np.zeros((size, size)).astype(np.int)\n",
    "    \n",
    "    for i in range(board.shape[0]):\n",
    "        for j in range(board.shape[1]):\n",
    "            if counting(i, j, board) == 2 or counting(i, j, board) == 3:\n",
    "                board1[i][j] = 1        \n",
    "    return( board1)\n",
    "\n",
    "def iterated_growth(n, board):\n",
    "    history = [board, ]\n",
    "    for i in range(n-1):\n",
    "        board = growth(board) \n",
    "        history.append(board)\n",
    "    return(np.asarray(history))"
   ]
  },
  {
   "cell_type": "code",
   "execution_count": 3,
   "metadata": {},
   "outputs": [],
   "source": [
    "size = 100\n",
    "N = 100\n",
    "\n",
    "board = np.zeros((size, size)).astype(np.bool)\n",
    "#board[1:3,1:2] = 1\n",
    "board[size//2,size//2] = 1; board[size//2 + 1, size//2 + 1] = 1;\n",
    "board[size//2 - 1, size//2 + 1] = 1; board[ size//2, size//2 + 2] = 1\n",
    "\n",
    "history = iterated_growth(N, board)"
   ]
  },
  {
   "cell_type": "code",
   "execution_count": 4,
   "metadata": {},
   "outputs": [
    {
     "data": {
      "application/vnd.jupyter.widget-view+json": {
       "model_id": "1221fc4f71da4c35a3c201dfd6dff925",
       "version_major": 2,
       "version_minor": 0
      },
      "text/html": [
       "<p>Failed to display Jupyter Widget of type <code>interactive</code>.</p>\n",
       "<p>\n",
       "  If you're reading this message in the Jupyter Notebook or JupyterLab Notebook, it may mean\n",
       "  that the widgets JavaScript is still loading. If this message persists, it\n",
       "  likely means that the widgets JavaScript library is either not installed or\n",
       "  not enabled. See the <a href=\"https://ipywidgets.readthedocs.io/en/stable/user_install.html\">Jupyter\n",
       "  Widgets Documentation</a> for setup instructions.\n",
       "</p>\n",
       "<p>\n",
       "  If you're reading this message in another frontend (for example, a static\n",
       "  rendering on GitHub or <a href=\"https://nbviewer.jupyter.org/\">NBViewer</a>),\n",
       "  it may mean that your frontend doesn't currently support widgets.\n",
       "</p>\n"
      ],
      "text/plain": [
       "interactive(children=(IntSlider(value=0, description='Age', max=99), Output()), _dom_classes=('widget-interact',))"
      ]
     },
     "metadata": {},
     "output_type": "display_data"
    }
   ],
   "source": [
    "@interact(Age=IntSlider(min=0, max=np.shape(history)[0]-1))\n",
    "def plot(Age):\n",
    "    plt.imshow( history[Age] )#, interpolation='lanczos') \n",
    "    plt.axis('off')\n",
    "    plt.show()"
   ]
  },
  {
   "cell_type": "code",
   "execution_count": null,
   "metadata": {},
   "outputs": [],
   "source": []
  }
 ],
 "metadata": {
  "kernelspec": {
   "display_name": "Python 3",
   "language": "python",
   "name": "python3"
  },
  "language_info": {
   "codemirror_mode": {
    "name": "ipython",
    "version": 3
   },
   "file_extension": ".py",
   "mimetype": "text/x-python",
   "name": "python",
   "nbconvert_exporter": "python",
   "pygments_lexer": "ipython3",
   "version": "3.5.4"
  }
 },
 "nbformat": 4,
 "nbformat_minor": 2
}
